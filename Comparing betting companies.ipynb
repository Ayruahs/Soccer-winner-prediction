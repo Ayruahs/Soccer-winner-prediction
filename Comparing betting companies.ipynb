{
 "cells": [
  {
   "cell_type": "code",
   "execution_count": null,
   "metadata": {
    "collapsed": true
   },
   "outputs": [],
   "source": [
    "## Importing required libraries\n",
    "import sqlite3\n",
    "import pandas as pd\n",
    "import numpy as np\n",
    "import itertools\n",
    "import matplotlib.pyplot as plt\n",
    "from sklearn.ensemble import GradientBoostingClassifier\n",
    "from sklearn.ensemble import AdaBoostClassifier \n",
    "from sklearn.ensemble import RandomForestClassifier\n",
    "from sklearn.naive_bayes import GaussianNB\n",
    "from sklearn.neighbors import KNeighborsClassifier\n",
    "from sklearn import linear_model\n",
    "from sklearn.metrics import confusion_matrix\n",
    "from sklearn.metrics import classification_report, accuracy_score\n",
    "from sklearn.calibration import CalibratedClassifierCV\n",
    "from sklearn import model_selection\n",
    "from sklearn.model_selection import train_test_split\n",
    "from sklearn.metrics import make_scorer\n",
    "from time import time\n",
    "from sklearn.decomposition import PCA, FastICA\n",
    "from sklearn.pipeline import Pipeline"
   ]
  },
  {
   "cell_type": "code",
   "execution_count": 2,
   "metadata": {
    "collapsed": true
   },
   "outputs": [],
   "source": [
    "## Fetching data\n",
    "#Connecting to database\n",
    "database = 'database.sqlite'\n",
    "conn = sqlite3.connect(database)\n",
    "\n",
    "#Defining the number of jobs to be run in parallel during grid search\n",
    "n_jobs = 1 #Insert number of parallel jobs here\n",
    "\n",
    "#Fetching required data tables\n",
    "player_data = pd.read_sql(\"SELECT * FROM Player;\", conn)\n",
    "#player_stats_data = pd.read_sql(\"SELECT * FROM Player_Attributes;\", conn)\n",
    "#team_data = pd.read_sql(\"SELECT * FROM Team;\", conn)\n",
    "match_data = pd.read_sql(\"SELECT * FROM Match;\", conn)\n",
    "\n",
    "#Reduce match data to fulfill run time requirements\n",
    "rows = [\"country_id\", \"league_id\", \"season\", \"stage\", \"date\", \"match_api_id\", \"home_team_api_id\", \n",
    "        \"away_team_api_id\", \"home_team_goal\", \"away_team_goal\", \"home_player_1\", \"home_player_2\",\n",
    "        \"home_player_3\", \"home_player_4\", \"home_player_5\", \"home_player_6\", \"home_player_7\", \n",
    "        \"home_player_8\", \"home_player_9\", \"home_player_10\", \"home_player_11\", \"away_player_1\",\n",
    "        \"away_player_2\", \"away_player_3\", \"away_player_4\", \"away_player_5\", \"away_player_6\",\n",
    "        \"away_player_7\", \"away_player_8\", \"away_player_9\", \"away_player_10\", \"away_player_11\"]\n",
    "\n",
    "#Dictionary to convert player IDs to names\n",
    "playerDict = {}\n",
    "i = 0\n",
    "for playerID in player_data['player_api_id']:\n",
    "    playerDict[playerID] =  player_data['player_name'][i]\n",
    "    i += 1"
   ]
  },
  {
   "cell_type": "code",
   "execution_count": 3,
   "metadata": {
    "collapsed": true
   },
   "outputs": [],
   "source": [
    "cols_to_remove = [\"home_player_1\", \"home_player_2\", \"home_player_3\", \"home_player_4\", \n",
    "                        \"home_player_5\", \"home_player_6\", \"home_player_7\", \"home_player_8\", \n",
    "                        \"home_player_9\", \"home_player_10\", \"home_player_11\", \"away_player_1\", \n",
    "                        \"away_player_2\", \"away_player_3\", \"away_player_4\", \"away_player_5\", \n",
    "                        \"away_player_6\", \"away_player_7\", \"away_player_8\", \"away_player_9\", \n",
    "                        \"away_player_10\", \"away_player_11\", \"home_player_X1\", \"home_player_X2\", \n",
    "                        \"home_player_X3\", \"home_player_X4\", \"home_player_X5\", \"home_player_X6\", \n",
    "                        \"home_player_X7\", \"home_player_X8\", \"home_player_X9\", \"home_player_X10\", \n",
    "                        \"home_player_X11\", \"away_player_X1\", \"away_player_X2\", \"away_player_X3\", \n",
    "                        \"away_player_X4\", \"away_player_X5\", \"away_player_X6\", \"away_player_X7\", \n",
    "                        \"away_player_X8\", \"away_player_X9\", \"away_player_X10\", \"away_player_X11\",\n",
    "                        \"home_player_Y1\", \"home_player_Y2\", \"home_player_Y3\", \"home_player_Y4\", \n",
    "                        \"home_player_Y5\", \"home_player_Y6\", \"home_player_Y7\", \"home_player_Y8\", \n",
    "                        \"home_player_Y9\", \"home_player_Y10\", \"home_player_Y11\", \"away_player_Y1\", \n",
    "                        \"away_player_Y2\", \"away_player_Y3\", \"away_player_Y4\", \"away_player_Y5\", \n",
    "                        \"away_player_Y6\", \"away_player_Y7\", \"away_player_Y8\", \"away_player_Y9\", \n",
    "                        \"away_player_Y10\", \"away_player_Y11\"]\n",
    "\n",
    "match_data.drop(cols_to_remove, axis=1, inplace=True)"
   ]
  },
  {
   "cell_type": "code",
   "execution_count": null,
   "metadata": {
    "collapsed": true
   },
   "outputs": [],
   "source": [
    "rows = [\"home_team_goal\", \"away_team_goal\", 'B365H', 'B365D',\n",
    "       'B365A', 'BWH', 'BWD', 'BWA', 'IWH', 'IWD', 'IWA', 'LBH', 'LBD', 'LBA',\n",
    "       'PSH', 'PSD', 'PSA', 'WHH', 'WHD', 'WHA', 'SJH', 'SJD', 'SJA', 'VCH',\n",
    "       'VCD', 'VCA', 'GBH', 'GBD', 'GBA', 'BSH', 'BSD', 'BSA']\n",
    "\n",
    "print(match_data.shape)\n",
    "\n",
    "#Figure out which bookies to remove\n",
    "k = (match_data.dropna(subset=rows, inplace=False, how='any'))\n",
    "print(k.shape)"
   ]
  },
  {
   "cell_type": "code",
   "execution_count": null,
   "metadata": {
    "collapsed": true
   },
   "outputs": [],
   "source": [
    "match_data.dropna(subset=rows, inplace=True, how='any')\n",
    "def resultFinder(homeScore, awayScore):\n",
    "    if (homeScore > awayScore):\n",
    "        return 'Home Win'\n",
    "    elif (homeScore == awayScore):\n",
    "        return 'Draw'\n",
    "    else: \n",
    "        return 'Home Loss'\n",
    "match_data['result'] = pd.Series()\n",
    "for i in range(len(match_data['home_team_goal'])):\n",
    "    match_data['result'][i] = resultFinder(match_data['home_team_goal'][i], match_data['away_team_goal'][i])"
   ]
  },
  {
   "cell_type": "code",
   "execution_count": null,
   "metadata": {
    "collapsed": true
   },
   "outputs": [],
   "source": [
    "for i in range(len(match_data['home_team_goal'])):\n",
    "    print('home:', match_data['home_team_goal'][i], '||away:', match_data['away_team_goal'][i], '||result:', match_data['result'][i])"
   ]
  }
 ],
 "metadata": {
  "kernelspec": {
   "display_name": "Python 3",
   "language": "python",
   "name": "python3"
  },
  "language_info": {
   "codemirror_mode": {
    "name": "ipython",
    "version": 3
   },
   "file_extension": ".py",
   "mimetype": "text/x-python",
   "name": "python",
   "nbconvert_exporter": "python",
   "pygments_lexer": "ipython3",
   "version": "3.6.1"
  }
 },
 "nbformat": 4,
 "nbformat_minor": 2
}
